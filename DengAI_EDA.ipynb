{
  "nbformat": 4,
  "nbformat_minor": 0,
  "metadata": {
    "colab": {
      "name": "DengAI: EDA.ipynb",
      "provenance": [],
      "authorship_tag": "ABX9TyO5WO8esGOZmShOMz/L65M/"
    },
    "kernelspec": {
      "name": "python3",
      "display_name": "Python 3"
    },
    "language_info": {
      "name": "python"
    }
  },
  "cells": [
    {
      "cell_type": "code",
      "execution_count": 3,
      "metadata": {
        "colab": {
          "base_uri": "https://localhost:8080/"
        },
        "id": "MRGWfnx-bH45",
        "outputId": "8183a258-53b7-47f6-e26f-28c9521f4c78"
      },
      "outputs": [
        {
          "output_type": "stream",
          "name": "stdout",
          "text": [
            "Mounted at /content/drive\n"
          ]
        }
      ],
      "source": [
        "#load google drive\n",
        "from google.colab import drive\n",
        "drive.mount('/content/drive')"
      ]
    },
    {
      "cell_type": "code",
      "source": [
        "#import basic libraries\n",
        "import pandas as pd\n",
        "import numpy as np\n",
        "import matplotlib.pyplot as plt\n",
        "import seaborn as sns\n",
        "%matplotlib inline"
      ],
      "metadata": {
        "id": "CsLLB-1Zg11x"
      },
      "execution_count": 1,
      "outputs": []
    },
    {
      "cell_type": "code",
      "source": [
        "%cd /content/drive/MyDrive/Colab Notebooks/"
      ],
      "metadata": {
        "colab": {
          "base_uri": "https://localhost:8080/"
        },
        "id": "iLoYXS-fiHnJ",
        "outputId": "1d553141-4f96-4f88-b66f-2eccd7e0ec5d"
      },
      "execution_count": 4,
      "outputs": [
        {
          "output_type": "stream",
          "name": "stdout",
          "text": [
            "/content/drive/MyDrive/Colab Notebooks\n"
          ]
        }
      ]
    },
    {
      "cell_type": "code",
      "source": [
        "X_train = pd.read_csv(\"dengue_features_train.csv\")"
      ],
      "metadata": {
        "id": "t-D2RgW4idXO"
      },
      "execution_count": 5,
      "outputs": []
    },
    {
      "cell_type": "code",
      "source": [
        "X_train.head()"
      ],
      "metadata": {
        "colab": {
          "base_uri": "https://localhost:8080/",
          "height": 270
        },
        "id": "NhC9wg6Xi7np",
        "outputId": "aad5c01b-a1e1-4ec8-800f-412a8991cc17"
      },
      "execution_count": 6,
      "outputs": [
        {
          "output_type": "execute_result",
          "data": {
            "text/html": [
              "\n",
              "  <div id=\"df-fc265243-8b6d-40f9-afd4-a69ab0c45e17\">\n",
              "    <div class=\"colab-df-container\">\n",
              "      <div>\n",
              "<style scoped>\n",
              "    .dataframe tbody tr th:only-of-type {\n",
              "        vertical-align: middle;\n",
              "    }\n",
              "\n",
              "    .dataframe tbody tr th {\n",
              "        vertical-align: top;\n",
              "    }\n",
              "\n",
              "    .dataframe thead th {\n",
              "        text-align: right;\n",
              "    }\n",
              "</style>\n",
              "<table border=\"1\" class=\"dataframe\">\n",
              "  <thead>\n",
              "    <tr style=\"text-align: right;\">\n",
              "      <th></th>\n",
              "      <th>city</th>\n",
              "      <th>year</th>\n",
              "      <th>weekofyear</th>\n",
              "      <th>week_start_date</th>\n",
              "      <th>ndvi_ne</th>\n",
              "      <th>ndvi_nw</th>\n",
              "      <th>ndvi_se</th>\n",
              "      <th>ndvi_sw</th>\n",
              "      <th>precipitation_amt_mm</th>\n",
              "      <th>reanalysis_air_temp_k</th>\n",
              "      <th>reanalysis_avg_temp_k</th>\n",
              "      <th>reanalysis_dew_point_temp_k</th>\n",
              "      <th>reanalysis_max_air_temp_k</th>\n",
              "      <th>reanalysis_min_air_temp_k</th>\n",
              "      <th>reanalysis_precip_amt_kg_per_m2</th>\n",
              "      <th>reanalysis_relative_humidity_percent</th>\n",
              "      <th>reanalysis_sat_precip_amt_mm</th>\n",
              "      <th>reanalysis_specific_humidity_g_per_kg</th>\n",
              "      <th>reanalysis_tdtr_k</th>\n",
              "      <th>station_avg_temp_c</th>\n",
              "      <th>station_diur_temp_rng_c</th>\n",
              "      <th>station_max_temp_c</th>\n",
              "      <th>station_min_temp_c</th>\n",
              "      <th>station_precip_mm</th>\n",
              "    </tr>\n",
              "  </thead>\n",
              "  <tbody>\n",
              "    <tr>\n",
              "      <th>0</th>\n",
              "      <td>sj</td>\n",
              "      <td>1990</td>\n",
              "      <td>18</td>\n",
              "      <td>1990-04-30</td>\n",
              "      <td>0.122600</td>\n",
              "      <td>0.103725</td>\n",
              "      <td>0.198483</td>\n",
              "      <td>0.177617</td>\n",
              "      <td>12.42</td>\n",
              "      <td>297.572857</td>\n",
              "      <td>297.742857</td>\n",
              "      <td>292.414286</td>\n",
              "      <td>299.8</td>\n",
              "      <td>295.9</td>\n",
              "      <td>32.00</td>\n",
              "      <td>73.365714</td>\n",
              "      <td>12.42</td>\n",
              "      <td>14.012857</td>\n",
              "      <td>2.628571</td>\n",
              "      <td>25.442857</td>\n",
              "      <td>6.900000</td>\n",
              "      <td>29.4</td>\n",
              "      <td>20.0</td>\n",
              "      <td>16.0</td>\n",
              "    </tr>\n",
              "    <tr>\n",
              "      <th>1</th>\n",
              "      <td>sj</td>\n",
              "      <td>1990</td>\n",
              "      <td>19</td>\n",
              "      <td>1990-05-07</td>\n",
              "      <td>0.169900</td>\n",
              "      <td>0.142175</td>\n",
              "      <td>0.162357</td>\n",
              "      <td>0.155486</td>\n",
              "      <td>22.82</td>\n",
              "      <td>298.211429</td>\n",
              "      <td>298.442857</td>\n",
              "      <td>293.951429</td>\n",
              "      <td>300.9</td>\n",
              "      <td>296.4</td>\n",
              "      <td>17.94</td>\n",
              "      <td>77.368571</td>\n",
              "      <td>22.82</td>\n",
              "      <td>15.372857</td>\n",
              "      <td>2.371429</td>\n",
              "      <td>26.714286</td>\n",
              "      <td>6.371429</td>\n",
              "      <td>31.7</td>\n",
              "      <td>22.2</td>\n",
              "      <td>8.6</td>\n",
              "    </tr>\n",
              "    <tr>\n",
              "      <th>2</th>\n",
              "      <td>sj</td>\n",
              "      <td>1990</td>\n",
              "      <td>20</td>\n",
              "      <td>1990-05-14</td>\n",
              "      <td>0.032250</td>\n",
              "      <td>0.172967</td>\n",
              "      <td>0.157200</td>\n",
              "      <td>0.170843</td>\n",
              "      <td>34.54</td>\n",
              "      <td>298.781429</td>\n",
              "      <td>298.878571</td>\n",
              "      <td>295.434286</td>\n",
              "      <td>300.5</td>\n",
              "      <td>297.3</td>\n",
              "      <td>26.10</td>\n",
              "      <td>82.052857</td>\n",
              "      <td>34.54</td>\n",
              "      <td>16.848571</td>\n",
              "      <td>2.300000</td>\n",
              "      <td>26.714286</td>\n",
              "      <td>6.485714</td>\n",
              "      <td>32.2</td>\n",
              "      <td>22.8</td>\n",
              "      <td>41.4</td>\n",
              "    </tr>\n",
              "    <tr>\n",
              "      <th>3</th>\n",
              "      <td>sj</td>\n",
              "      <td>1990</td>\n",
              "      <td>21</td>\n",
              "      <td>1990-05-21</td>\n",
              "      <td>0.128633</td>\n",
              "      <td>0.245067</td>\n",
              "      <td>0.227557</td>\n",
              "      <td>0.235886</td>\n",
              "      <td>15.36</td>\n",
              "      <td>298.987143</td>\n",
              "      <td>299.228571</td>\n",
              "      <td>295.310000</td>\n",
              "      <td>301.4</td>\n",
              "      <td>297.0</td>\n",
              "      <td>13.90</td>\n",
              "      <td>80.337143</td>\n",
              "      <td>15.36</td>\n",
              "      <td>16.672857</td>\n",
              "      <td>2.428571</td>\n",
              "      <td>27.471429</td>\n",
              "      <td>6.771429</td>\n",
              "      <td>33.3</td>\n",
              "      <td>23.3</td>\n",
              "      <td>4.0</td>\n",
              "    </tr>\n",
              "    <tr>\n",
              "      <th>4</th>\n",
              "      <td>sj</td>\n",
              "      <td>1990</td>\n",
              "      <td>22</td>\n",
              "      <td>1990-05-28</td>\n",
              "      <td>0.196200</td>\n",
              "      <td>0.262200</td>\n",
              "      <td>0.251200</td>\n",
              "      <td>0.247340</td>\n",
              "      <td>7.52</td>\n",
              "      <td>299.518571</td>\n",
              "      <td>299.664286</td>\n",
              "      <td>295.821429</td>\n",
              "      <td>301.9</td>\n",
              "      <td>297.5</td>\n",
              "      <td>12.20</td>\n",
              "      <td>80.460000</td>\n",
              "      <td>7.52</td>\n",
              "      <td>17.210000</td>\n",
              "      <td>3.014286</td>\n",
              "      <td>28.942857</td>\n",
              "      <td>9.371429</td>\n",
              "      <td>35.0</td>\n",
              "      <td>23.9</td>\n",
              "      <td>5.8</td>\n",
              "    </tr>\n",
              "  </tbody>\n",
              "</table>\n",
              "</div>\n",
              "      <button class=\"colab-df-convert\" onclick=\"convertToInteractive('df-fc265243-8b6d-40f9-afd4-a69ab0c45e17')\"\n",
              "              title=\"Convert this dataframe to an interactive table.\"\n",
              "              style=\"display:none;\">\n",
              "        \n",
              "  <svg xmlns=\"http://www.w3.org/2000/svg\" height=\"24px\"viewBox=\"0 0 24 24\"\n",
              "       width=\"24px\">\n",
              "    <path d=\"M0 0h24v24H0V0z\" fill=\"none\"/>\n",
              "    <path d=\"M18.56 5.44l.94 2.06.94-2.06 2.06-.94-2.06-.94-.94-2.06-.94 2.06-2.06.94zm-11 1L8.5 8.5l.94-2.06 2.06-.94-2.06-.94L8.5 2.5l-.94 2.06-2.06.94zm10 10l.94 2.06.94-2.06 2.06-.94-2.06-.94-.94-2.06-.94 2.06-2.06.94z\"/><path d=\"M17.41 7.96l-1.37-1.37c-.4-.4-.92-.59-1.43-.59-.52 0-1.04.2-1.43.59L10.3 9.45l-7.72 7.72c-.78.78-.78 2.05 0 2.83L4 21.41c.39.39.9.59 1.41.59.51 0 1.02-.2 1.41-.59l7.78-7.78 2.81-2.81c.8-.78.8-2.07 0-2.86zM5.41 20L4 18.59l7.72-7.72 1.47 1.35L5.41 20z\"/>\n",
              "  </svg>\n",
              "      </button>\n",
              "      \n",
              "  <style>\n",
              "    .colab-df-container {\n",
              "      display:flex;\n",
              "      flex-wrap:wrap;\n",
              "      gap: 12px;\n",
              "    }\n",
              "\n",
              "    .colab-df-convert {\n",
              "      background-color: #E8F0FE;\n",
              "      border: none;\n",
              "      border-radius: 50%;\n",
              "      cursor: pointer;\n",
              "      display: none;\n",
              "      fill: #1967D2;\n",
              "      height: 32px;\n",
              "      padding: 0 0 0 0;\n",
              "      width: 32px;\n",
              "    }\n",
              "\n",
              "    .colab-df-convert:hover {\n",
              "      background-color: #E2EBFA;\n",
              "      box-shadow: 0px 1px 2px rgba(60, 64, 67, 0.3), 0px 1px 3px 1px rgba(60, 64, 67, 0.15);\n",
              "      fill: #174EA6;\n",
              "    }\n",
              "\n",
              "    [theme=dark] .colab-df-convert {\n",
              "      background-color: #3B4455;\n",
              "      fill: #D2E3FC;\n",
              "    }\n",
              "\n",
              "    [theme=dark] .colab-df-convert:hover {\n",
              "      background-color: #434B5C;\n",
              "      box-shadow: 0px 1px 3px 1px rgba(0, 0, 0, 0.15);\n",
              "      filter: drop-shadow(0px 1px 2px rgba(0, 0, 0, 0.3));\n",
              "      fill: #FFFFFF;\n",
              "    }\n",
              "  </style>\n",
              "\n",
              "      <script>\n",
              "        const buttonEl =\n",
              "          document.querySelector('#df-fc265243-8b6d-40f9-afd4-a69ab0c45e17 button.colab-df-convert');\n",
              "        buttonEl.style.display =\n",
              "          google.colab.kernel.accessAllowed ? 'block' : 'none';\n",
              "\n",
              "        async function convertToInteractive(key) {\n",
              "          const element = document.querySelector('#df-fc265243-8b6d-40f9-afd4-a69ab0c45e17');\n",
              "          const dataTable =\n",
              "            await google.colab.kernel.invokeFunction('convertToInteractive',\n",
              "                                                     [key], {});\n",
              "          if (!dataTable) return;\n",
              "\n",
              "          const docLinkHtml = 'Like what you see? Visit the ' +\n",
              "            '<a target=\"_blank\" href=https://colab.research.google.com/notebooks/data_table.ipynb>data table notebook</a>'\n",
              "            + ' to learn more about interactive tables.';\n",
              "          element.innerHTML = '';\n",
              "          dataTable['output_type'] = 'display_data';\n",
              "          await google.colab.output.renderOutput(dataTable, element);\n",
              "          const docLink = document.createElement('div');\n",
              "          docLink.innerHTML = docLinkHtml;\n",
              "          element.appendChild(docLink);\n",
              "        }\n",
              "      </script>\n",
              "    </div>\n",
              "  </div>\n",
              "  "
            ],
            "text/plain": [
              "  city  year  ...  station_min_temp_c station_precip_mm\n",
              "0   sj  1990  ...                20.0              16.0\n",
              "1   sj  1990  ...                22.2               8.6\n",
              "2   sj  1990  ...                22.8              41.4\n",
              "3   sj  1990  ...                23.3               4.0\n",
              "4   sj  1990  ...                23.9               5.8\n",
              "\n",
              "[5 rows x 24 columns]"
            ]
          },
          "metadata": {},
          "execution_count": 6
        }
      ]
    },
    {
      "cell_type": "code",
      "source": [
        "X_train.shape"
      ],
      "metadata": {
        "colab": {
          "base_uri": "https://localhost:8080/"
        },
        "id": "YV_2-Qo6mAQG",
        "outputId": "32ab543f-a0b1-46ed-8bf4-f4cf1d10ec3a"
      },
      "execution_count": 7,
      "outputs": [
        {
          "output_type": "execute_result",
          "data": {
            "text/plain": [
              "(1456, 24)"
            ]
          },
          "metadata": {},
          "execution_count": 7
        }
      ]
    },
    {
      "cell_type": "code",
      "source": [
        "X_train.isnull().sum()"
      ],
      "metadata": {
        "colab": {
          "base_uri": "https://localhost:8080/"
        },
        "id": "jWzFZLCsmDHw",
        "outputId": "9af8310b-6127-4799-c768-7dcbbe2f9823"
      },
      "execution_count": 8,
      "outputs": [
        {
          "output_type": "execute_result",
          "data": {
            "text/plain": [
              "city                                       0\n",
              "year                                       0\n",
              "weekofyear                                 0\n",
              "week_start_date                            0\n",
              "ndvi_ne                                  194\n",
              "ndvi_nw                                   52\n",
              "ndvi_se                                   22\n",
              "ndvi_sw                                   22\n",
              "precipitation_amt_mm                      13\n",
              "reanalysis_air_temp_k                     10\n",
              "reanalysis_avg_temp_k                     10\n",
              "reanalysis_dew_point_temp_k               10\n",
              "reanalysis_max_air_temp_k                 10\n",
              "reanalysis_min_air_temp_k                 10\n",
              "reanalysis_precip_amt_kg_per_m2           10\n",
              "reanalysis_relative_humidity_percent      10\n",
              "reanalysis_sat_precip_amt_mm              13\n",
              "reanalysis_specific_humidity_g_per_kg     10\n",
              "reanalysis_tdtr_k                         10\n",
              "station_avg_temp_c                        43\n",
              "station_diur_temp_rng_c                   43\n",
              "station_max_temp_c                        20\n",
              "station_min_temp_c                        14\n",
              "station_precip_mm                         22\n",
              "dtype: int64"
            ]
          },
          "metadata": {},
          "execution_count": 8
        }
      ]
    },
    {
      "cell_type": "code",
      "source": [
        "X_train.info()"
      ],
      "metadata": {
        "colab": {
          "base_uri": "https://localhost:8080/"
        },
        "id": "TB9bPCVvmGwP",
        "outputId": "79f11986-da18-408f-d3cd-a778419e1ba5"
      },
      "execution_count": 9,
      "outputs": [
        {
          "output_type": "stream",
          "name": "stdout",
          "text": [
            "<class 'pandas.core.frame.DataFrame'>\n",
            "RangeIndex: 1456 entries, 0 to 1455\n",
            "Data columns (total 24 columns):\n",
            " #   Column                                 Non-Null Count  Dtype  \n",
            "---  ------                                 --------------  -----  \n",
            " 0   city                                   1456 non-null   object \n",
            " 1   year                                   1456 non-null   int64  \n",
            " 2   weekofyear                             1456 non-null   int64  \n",
            " 3   week_start_date                        1456 non-null   object \n",
            " 4   ndvi_ne                                1262 non-null   float64\n",
            " 5   ndvi_nw                                1404 non-null   float64\n",
            " 6   ndvi_se                                1434 non-null   float64\n",
            " 7   ndvi_sw                                1434 non-null   float64\n",
            " 8   precipitation_amt_mm                   1443 non-null   float64\n",
            " 9   reanalysis_air_temp_k                  1446 non-null   float64\n",
            " 10  reanalysis_avg_temp_k                  1446 non-null   float64\n",
            " 11  reanalysis_dew_point_temp_k            1446 non-null   float64\n",
            " 12  reanalysis_max_air_temp_k              1446 non-null   float64\n",
            " 13  reanalysis_min_air_temp_k              1446 non-null   float64\n",
            " 14  reanalysis_precip_amt_kg_per_m2        1446 non-null   float64\n",
            " 15  reanalysis_relative_humidity_percent   1446 non-null   float64\n",
            " 16  reanalysis_sat_precip_amt_mm           1443 non-null   float64\n",
            " 17  reanalysis_specific_humidity_g_per_kg  1446 non-null   float64\n",
            " 18  reanalysis_tdtr_k                      1446 non-null   float64\n",
            " 19  station_avg_temp_c                     1413 non-null   float64\n",
            " 20  station_diur_temp_rng_c                1413 non-null   float64\n",
            " 21  station_max_temp_c                     1436 non-null   float64\n",
            " 22  station_min_temp_c                     1442 non-null   float64\n",
            " 23  station_precip_mm                      1434 non-null   float64\n",
            "dtypes: float64(20), int64(2), object(2)\n",
            "memory usage: 273.1+ KB\n"
          ]
        }
      ]
    },
    {
      "cell_type": "code",
      "source": [
        "X_train['station_max_temp_c'].head()"
      ],
      "metadata": {
        "colab": {
          "base_uri": "https://localhost:8080/"
        },
        "id": "oo8vOzDqmOAw",
        "outputId": "07dc33df-a29f-4b3c-c8f4-a4b6b257b8ad"
      },
      "execution_count": 10,
      "outputs": [
        {
          "output_type": "execute_result",
          "data": {
            "text/plain": [
              "0    29.4\n",
              "1    31.7\n",
              "2    32.2\n",
              "3    33.3\n",
              "4    35.0\n",
              "Name: station_max_temp_c, dtype: float64"
            ]
          },
          "metadata": {},
          "execution_count": 10
        }
      ]
    },
    {
      "cell_type": "code",
      "source": [
        "X_train['station_min_temp_c'].head()"
      ],
      "metadata": {
        "colab": {
          "base_uri": "https://localhost:8080/"
        },
        "id": "D-J_VSvenZZ_",
        "outputId": "069df3f1-f105-4a55-f387-7ae41eb42bc1"
      },
      "execution_count": 11,
      "outputs": [
        {
          "output_type": "execute_result",
          "data": {
            "text/plain": [
              "0    20.0\n",
              "1    22.2\n",
              "2    22.8\n",
              "3    23.3\n",
              "4    23.9\n",
              "Name: station_min_temp_c, dtype: float64"
            ]
          },
          "metadata": {},
          "execution_count": 11
        }
      ]
    },
    {
      "cell_type": "code",
      "source": [
        "X_train['station_avg_temp_c'].head()"
      ],
      "metadata": {
        "colab": {
          "base_uri": "https://localhost:8080/"
        },
        "id": "IKR72Gztne12",
        "outputId": "93e178da-8cf2-47f5-e95c-5f06a9fa4dae"
      },
      "execution_count": 12,
      "outputs": [
        {
          "output_type": "execute_result",
          "data": {
            "text/plain": [
              "0    25.442857\n",
              "1    26.714286\n",
              "2    26.714286\n",
              "3    27.471429\n",
              "4    28.942857\n",
              "Name: station_avg_temp_c, dtype: float64"
            ]
          },
          "metadata": {},
          "execution_count": 12
        }
      ]
    },
    {
      "cell_type": "code",
      "source": [
        "0.5 * (X_train['station_max_temp_c'] + X_train['station_min_temp_c'])"
      ],
      "metadata": {
        "colab": {
          "base_uri": "https://localhost:8080/"
        },
        "id": "EBCSnUCjm3aJ",
        "outputId": "077840c6-43f1-4ee3-ef99-9bb7f74bf481"
      },
      "execution_count": 13,
      "outputs": [
        {
          "output_type": "execute_result",
          "data": {
            "text/plain": [
              "0       24.70\n",
              "1       26.95\n",
              "2       27.50\n",
              "3       28.30\n",
              "4       29.45\n",
              "        ...  \n",
              "1451    28.90\n",
              "1452    28.20\n",
              "1453    25.70\n",
              "1454    26.10\n",
              "1455    27.95\n",
              "Length: 1456, dtype: float64"
            ]
          },
          "metadata": {},
          "execution_count": 13
        }
      ]
    },
    {
      "cell_type": "code",
      "source": [
        "X_train.columns"
      ],
      "metadata": {
        "colab": {
          "base_uri": "https://localhost:8080/"
        },
        "id": "Bf7iU5DgnJC9",
        "outputId": "49721a94-2907-46b0-9892-34429aee87c7"
      },
      "execution_count": 14,
      "outputs": [
        {
          "output_type": "execute_result",
          "data": {
            "text/plain": [
              "Index(['city', 'year', 'weekofyear', 'week_start_date', 'ndvi_ne', 'ndvi_nw',\n",
              "       'ndvi_se', 'ndvi_sw', 'precipitation_amt_mm', 'reanalysis_air_temp_k',\n",
              "       'reanalysis_avg_temp_k', 'reanalysis_dew_point_temp_k',\n",
              "       'reanalysis_max_air_temp_k', 'reanalysis_min_air_temp_k',\n",
              "       'reanalysis_precip_amt_kg_per_m2',\n",
              "       'reanalysis_relative_humidity_percent', 'reanalysis_sat_precip_amt_mm',\n",
              "       'reanalysis_specific_humidity_g_per_kg', 'reanalysis_tdtr_k',\n",
              "       'station_avg_temp_c', 'station_diur_temp_rng_c', 'station_max_temp_c',\n",
              "       'station_min_temp_c', 'station_precip_mm'],\n",
              "      dtype='object')"
            ]
          },
          "metadata": {},
          "execution_count": 14
        }
      ]
    },
    {
      "cell_type": "code",
      "source": [
        "X_test = pd.read_csv(\"dengue_features_test.csv\")"
      ],
      "metadata": {
        "id": "jmyL2Rrbo14G"
      },
      "execution_count": 15,
      "outputs": []
    },
    {
      "cell_type": "code",
      "source": [
        "X_test.head()"
      ],
      "metadata": {
        "colab": {
          "base_uri": "https://localhost:8080/",
          "height": 270
        },
        "id": "SsyFbGMDo86E",
        "outputId": "d535087e-288a-4610-bd18-589b5ccde1ef"
      },
      "execution_count": 16,
      "outputs": [
        {
          "output_type": "execute_result",
          "data": {
            "text/html": [
              "\n",
              "  <div id=\"df-933769b8-6cdc-4076-b8e2-248526cd537b\">\n",
              "    <div class=\"colab-df-container\">\n",
              "      <div>\n",
              "<style scoped>\n",
              "    .dataframe tbody tr th:only-of-type {\n",
              "        vertical-align: middle;\n",
              "    }\n",
              "\n",
              "    .dataframe tbody tr th {\n",
              "        vertical-align: top;\n",
              "    }\n",
              "\n",
              "    .dataframe thead th {\n",
              "        text-align: right;\n",
              "    }\n",
              "</style>\n",
              "<table border=\"1\" class=\"dataframe\">\n",
              "  <thead>\n",
              "    <tr style=\"text-align: right;\">\n",
              "      <th></th>\n",
              "      <th>city</th>\n",
              "      <th>year</th>\n",
              "      <th>weekofyear</th>\n",
              "      <th>week_start_date</th>\n",
              "      <th>ndvi_ne</th>\n",
              "      <th>ndvi_nw</th>\n",
              "      <th>ndvi_se</th>\n",
              "      <th>ndvi_sw</th>\n",
              "      <th>precipitation_amt_mm</th>\n",
              "      <th>reanalysis_air_temp_k</th>\n",
              "      <th>reanalysis_avg_temp_k</th>\n",
              "      <th>reanalysis_dew_point_temp_k</th>\n",
              "      <th>reanalysis_max_air_temp_k</th>\n",
              "      <th>reanalysis_min_air_temp_k</th>\n",
              "      <th>reanalysis_precip_amt_kg_per_m2</th>\n",
              "      <th>reanalysis_relative_humidity_percent</th>\n",
              "      <th>reanalysis_sat_precip_amt_mm</th>\n",
              "      <th>reanalysis_specific_humidity_g_per_kg</th>\n",
              "      <th>reanalysis_tdtr_k</th>\n",
              "      <th>station_avg_temp_c</th>\n",
              "      <th>station_diur_temp_rng_c</th>\n",
              "      <th>station_max_temp_c</th>\n",
              "      <th>station_min_temp_c</th>\n",
              "      <th>station_precip_mm</th>\n",
              "    </tr>\n",
              "  </thead>\n",
              "  <tbody>\n",
              "    <tr>\n",
              "      <th>0</th>\n",
              "      <td>sj</td>\n",
              "      <td>2008</td>\n",
              "      <td>18</td>\n",
              "      <td>2008-04-29</td>\n",
              "      <td>-0.0189</td>\n",
              "      <td>-0.018900</td>\n",
              "      <td>0.102729</td>\n",
              "      <td>0.091200</td>\n",
              "      <td>78.60</td>\n",
              "      <td>298.492857</td>\n",
              "      <td>298.550000</td>\n",
              "      <td>294.527143</td>\n",
              "      <td>301.1</td>\n",
              "      <td>296.4</td>\n",
              "      <td>25.37</td>\n",
              "      <td>78.781429</td>\n",
              "      <td>78.60</td>\n",
              "      <td>15.918571</td>\n",
              "      <td>3.128571</td>\n",
              "      <td>26.528571</td>\n",
              "      <td>7.057143</td>\n",
              "      <td>33.3</td>\n",
              "      <td>21.7</td>\n",
              "      <td>75.2</td>\n",
              "    </tr>\n",
              "    <tr>\n",
              "      <th>1</th>\n",
              "      <td>sj</td>\n",
              "      <td>2008</td>\n",
              "      <td>19</td>\n",
              "      <td>2008-05-06</td>\n",
              "      <td>-0.0180</td>\n",
              "      <td>-0.012400</td>\n",
              "      <td>0.082043</td>\n",
              "      <td>0.072314</td>\n",
              "      <td>12.56</td>\n",
              "      <td>298.475714</td>\n",
              "      <td>298.557143</td>\n",
              "      <td>294.395714</td>\n",
              "      <td>300.8</td>\n",
              "      <td>296.7</td>\n",
              "      <td>21.83</td>\n",
              "      <td>78.230000</td>\n",
              "      <td>12.56</td>\n",
              "      <td>15.791429</td>\n",
              "      <td>2.571429</td>\n",
              "      <td>26.071429</td>\n",
              "      <td>5.557143</td>\n",
              "      <td>30.0</td>\n",
              "      <td>22.2</td>\n",
              "      <td>34.3</td>\n",
              "    </tr>\n",
              "    <tr>\n",
              "      <th>2</th>\n",
              "      <td>sj</td>\n",
              "      <td>2008</td>\n",
              "      <td>20</td>\n",
              "      <td>2008-05-13</td>\n",
              "      <td>-0.0015</td>\n",
              "      <td>NaN</td>\n",
              "      <td>0.151083</td>\n",
              "      <td>0.091529</td>\n",
              "      <td>3.66</td>\n",
              "      <td>299.455714</td>\n",
              "      <td>299.357143</td>\n",
              "      <td>295.308571</td>\n",
              "      <td>302.2</td>\n",
              "      <td>296.4</td>\n",
              "      <td>4.12</td>\n",
              "      <td>78.270000</td>\n",
              "      <td>3.66</td>\n",
              "      <td>16.674286</td>\n",
              "      <td>4.428571</td>\n",
              "      <td>27.928571</td>\n",
              "      <td>7.785714</td>\n",
              "      <td>32.8</td>\n",
              "      <td>22.8</td>\n",
              "      <td>3.0</td>\n",
              "    </tr>\n",
              "    <tr>\n",
              "      <th>3</th>\n",
              "      <td>sj</td>\n",
              "      <td>2008</td>\n",
              "      <td>21</td>\n",
              "      <td>2008-05-20</td>\n",
              "      <td>NaN</td>\n",
              "      <td>-0.019867</td>\n",
              "      <td>0.124329</td>\n",
              "      <td>0.125686</td>\n",
              "      <td>0.00</td>\n",
              "      <td>299.690000</td>\n",
              "      <td>299.728571</td>\n",
              "      <td>294.402857</td>\n",
              "      <td>303.0</td>\n",
              "      <td>296.9</td>\n",
              "      <td>2.20</td>\n",
              "      <td>73.015714</td>\n",
              "      <td>0.00</td>\n",
              "      <td>15.775714</td>\n",
              "      <td>4.342857</td>\n",
              "      <td>28.057143</td>\n",
              "      <td>6.271429</td>\n",
              "      <td>33.3</td>\n",
              "      <td>24.4</td>\n",
              "      <td>0.3</td>\n",
              "    </tr>\n",
              "    <tr>\n",
              "      <th>4</th>\n",
              "      <td>sj</td>\n",
              "      <td>2008</td>\n",
              "      <td>22</td>\n",
              "      <td>2008-05-27</td>\n",
              "      <td>0.0568</td>\n",
              "      <td>0.039833</td>\n",
              "      <td>0.062267</td>\n",
              "      <td>0.075914</td>\n",
              "      <td>0.76</td>\n",
              "      <td>299.780000</td>\n",
              "      <td>299.671429</td>\n",
              "      <td>294.760000</td>\n",
              "      <td>302.3</td>\n",
              "      <td>297.3</td>\n",
              "      <td>4.36</td>\n",
              "      <td>74.084286</td>\n",
              "      <td>0.76</td>\n",
              "      <td>16.137143</td>\n",
              "      <td>3.542857</td>\n",
              "      <td>27.614286</td>\n",
              "      <td>7.085714</td>\n",
              "      <td>33.3</td>\n",
              "      <td>23.3</td>\n",
              "      <td>84.1</td>\n",
              "    </tr>\n",
              "  </tbody>\n",
              "</table>\n",
              "</div>\n",
              "      <button class=\"colab-df-convert\" onclick=\"convertToInteractive('df-933769b8-6cdc-4076-b8e2-248526cd537b')\"\n",
              "              title=\"Convert this dataframe to an interactive table.\"\n",
              "              style=\"display:none;\">\n",
              "        \n",
              "  <svg xmlns=\"http://www.w3.org/2000/svg\" height=\"24px\"viewBox=\"0 0 24 24\"\n",
              "       width=\"24px\">\n",
              "    <path d=\"M0 0h24v24H0V0z\" fill=\"none\"/>\n",
              "    <path d=\"M18.56 5.44l.94 2.06.94-2.06 2.06-.94-2.06-.94-.94-2.06-.94 2.06-2.06.94zm-11 1L8.5 8.5l.94-2.06 2.06-.94-2.06-.94L8.5 2.5l-.94 2.06-2.06.94zm10 10l.94 2.06.94-2.06 2.06-.94-2.06-.94-.94-2.06-.94 2.06-2.06.94z\"/><path d=\"M17.41 7.96l-1.37-1.37c-.4-.4-.92-.59-1.43-.59-.52 0-1.04.2-1.43.59L10.3 9.45l-7.72 7.72c-.78.78-.78 2.05 0 2.83L4 21.41c.39.39.9.59 1.41.59.51 0 1.02-.2 1.41-.59l7.78-7.78 2.81-2.81c.8-.78.8-2.07 0-2.86zM5.41 20L4 18.59l7.72-7.72 1.47 1.35L5.41 20z\"/>\n",
              "  </svg>\n",
              "      </button>\n",
              "      \n",
              "  <style>\n",
              "    .colab-df-container {\n",
              "      display:flex;\n",
              "      flex-wrap:wrap;\n",
              "      gap: 12px;\n",
              "    }\n",
              "\n",
              "    .colab-df-convert {\n",
              "      background-color: #E8F0FE;\n",
              "      border: none;\n",
              "      border-radius: 50%;\n",
              "      cursor: pointer;\n",
              "      display: none;\n",
              "      fill: #1967D2;\n",
              "      height: 32px;\n",
              "      padding: 0 0 0 0;\n",
              "      width: 32px;\n",
              "    }\n",
              "\n",
              "    .colab-df-convert:hover {\n",
              "      background-color: #E2EBFA;\n",
              "      box-shadow: 0px 1px 2px rgba(60, 64, 67, 0.3), 0px 1px 3px 1px rgba(60, 64, 67, 0.15);\n",
              "      fill: #174EA6;\n",
              "    }\n",
              "\n",
              "    [theme=dark] .colab-df-convert {\n",
              "      background-color: #3B4455;\n",
              "      fill: #D2E3FC;\n",
              "    }\n",
              "\n",
              "    [theme=dark] .colab-df-convert:hover {\n",
              "      background-color: #434B5C;\n",
              "      box-shadow: 0px 1px 3px 1px rgba(0, 0, 0, 0.15);\n",
              "      filter: drop-shadow(0px 1px 2px rgba(0, 0, 0, 0.3));\n",
              "      fill: #FFFFFF;\n",
              "    }\n",
              "  </style>\n",
              "\n",
              "      <script>\n",
              "        const buttonEl =\n",
              "          document.querySelector('#df-933769b8-6cdc-4076-b8e2-248526cd537b button.colab-df-convert');\n",
              "        buttonEl.style.display =\n",
              "          google.colab.kernel.accessAllowed ? 'block' : 'none';\n",
              "\n",
              "        async function convertToInteractive(key) {\n",
              "          const element = document.querySelector('#df-933769b8-6cdc-4076-b8e2-248526cd537b');\n",
              "          const dataTable =\n",
              "            await google.colab.kernel.invokeFunction('convertToInteractive',\n",
              "                                                     [key], {});\n",
              "          if (!dataTable) return;\n",
              "\n",
              "          const docLinkHtml = 'Like what you see? Visit the ' +\n",
              "            '<a target=\"_blank\" href=https://colab.research.google.com/notebooks/data_table.ipynb>data table notebook</a>'\n",
              "            + ' to learn more about interactive tables.';\n",
              "          element.innerHTML = '';\n",
              "          dataTable['output_type'] = 'display_data';\n",
              "          await google.colab.output.renderOutput(dataTable, element);\n",
              "          const docLink = document.createElement('div');\n",
              "          docLink.innerHTML = docLinkHtml;\n",
              "          element.appendChild(docLink);\n",
              "        }\n",
              "      </script>\n",
              "    </div>\n",
              "  </div>\n",
              "  "
            ],
            "text/plain": [
              "  city  year  ...  station_min_temp_c station_precip_mm\n",
              "0   sj  2008  ...                21.7              75.2\n",
              "1   sj  2008  ...                22.2              34.3\n",
              "2   sj  2008  ...                22.8               3.0\n",
              "3   sj  2008  ...                24.4               0.3\n",
              "4   sj  2008  ...                23.3              84.1\n",
              "\n",
              "[5 rows x 24 columns]"
            ]
          },
          "metadata": {},
          "execution_count": 16
        }
      ]
    },
    {
      "cell_type": "code",
      "source": [
        "X_test.shape"
      ],
      "metadata": {
        "colab": {
          "base_uri": "https://localhost:8080/"
        },
        "id": "y7Zgh6UTo_c_",
        "outputId": "18ea70e8-8345-438e-d26e-868e366d0d2a"
      },
      "execution_count": 17,
      "outputs": [
        {
          "output_type": "execute_result",
          "data": {
            "text/plain": [
              "(416, 24)"
            ]
          },
          "metadata": {},
          "execution_count": 17
        }
      ]
    },
    {
      "cell_type": "code",
      "source": [
        "(X_test.columns == X_train.columns).all()"
      ],
      "metadata": {
        "colab": {
          "base_uri": "https://localhost:8080/"
        },
        "id": "kFPqbDTJpCmd",
        "outputId": "b8585f7f-8f30-46bf-a7c3-866e60d6f1d9"
      },
      "execution_count": 18,
      "outputs": [
        {
          "output_type": "execute_result",
          "data": {
            "text/plain": [
              "True"
            ]
          },
          "metadata": {},
          "execution_count": 18
        }
      ]
    },
    {
      "cell_type": "code",
      "source": [
        "#look data quality issues (e.g, missing values)\n",
        "#Get a feel of features that are strongly related to labels\n",
        "#think about feature engineering capabilities\n",
        "#Identify the different data types present\n",
        "#Think about simple models to serve as benchmarks!!!"
      ],
      "metadata": {
        "id": "uVvjOspOpHIK"
      },
      "execution_count": null,
      "outputs": []
    },
    {
      "cell_type": "code",
      "source": [
        "#mostly numerical data but do have nominal data -->('city') and some datetime columns\n",
        "#very few missing data"
      ],
      "metadata": {
        "id": "94L0wvTwq99X"
      },
      "execution_count": null,
      "outputs": []
    },
    {
      "cell_type": "code",
      "source": [
        "y_train = pd.read_csv(\"dengue_labels_train.csv\")"
      ],
      "metadata": {
        "id": "PPMjtf5irHNr"
      },
      "execution_count": 19,
      "outputs": []
    },
    {
      "cell_type": "code",
      "source": [
        "y_train.head(20)"
      ],
      "metadata": {
        "colab": {
          "base_uri": "https://localhost:8080/",
          "height": 676
        },
        "id": "FMQo5B23rRV-",
        "outputId": "f7f62414-4973-4453-b8c7-884069a6a1db"
      },
      "execution_count": 20,
      "outputs": [
        {
          "output_type": "execute_result",
          "data": {
            "text/html": [
              "\n",
              "  <div id=\"df-34b84d51-83f1-4f95-a39a-b6337fa14ad4\">\n",
              "    <div class=\"colab-df-container\">\n",
              "      <div>\n",
              "<style scoped>\n",
              "    .dataframe tbody tr th:only-of-type {\n",
              "        vertical-align: middle;\n",
              "    }\n",
              "\n",
              "    .dataframe tbody tr th {\n",
              "        vertical-align: top;\n",
              "    }\n",
              "\n",
              "    .dataframe thead th {\n",
              "        text-align: right;\n",
              "    }\n",
              "</style>\n",
              "<table border=\"1\" class=\"dataframe\">\n",
              "  <thead>\n",
              "    <tr style=\"text-align: right;\">\n",
              "      <th></th>\n",
              "      <th>city</th>\n",
              "      <th>year</th>\n",
              "      <th>weekofyear</th>\n",
              "      <th>total_cases</th>\n",
              "    </tr>\n",
              "  </thead>\n",
              "  <tbody>\n",
              "    <tr>\n",
              "      <th>0</th>\n",
              "      <td>sj</td>\n",
              "      <td>1990</td>\n",
              "      <td>18</td>\n",
              "      <td>4</td>\n",
              "    </tr>\n",
              "    <tr>\n",
              "      <th>1</th>\n",
              "      <td>sj</td>\n",
              "      <td>1990</td>\n",
              "      <td>19</td>\n",
              "      <td>5</td>\n",
              "    </tr>\n",
              "    <tr>\n",
              "      <th>2</th>\n",
              "      <td>sj</td>\n",
              "      <td>1990</td>\n",
              "      <td>20</td>\n",
              "      <td>4</td>\n",
              "    </tr>\n",
              "    <tr>\n",
              "      <th>3</th>\n",
              "      <td>sj</td>\n",
              "      <td>1990</td>\n",
              "      <td>21</td>\n",
              "      <td>3</td>\n",
              "    </tr>\n",
              "    <tr>\n",
              "      <th>4</th>\n",
              "      <td>sj</td>\n",
              "      <td>1990</td>\n",
              "      <td>22</td>\n",
              "      <td>6</td>\n",
              "    </tr>\n",
              "    <tr>\n",
              "      <th>5</th>\n",
              "      <td>sj</td>\n",
              "      <td>1990</td>\n",
              "      <td>23</td>\n",
              "      <td>2</td>\n",
              "    </tr>\n",
              "    <tr>\n",
              "      <th>6</th>\n",
              "      <td>sj</td>\n",
              "      <td>1990</td>\n",
              "      <td>24</td>\n",
              "      <td>4</td>\n",
              "    </tr>\n",
              "    <tr>\n",
              "      <th>7</th>\n",
              "      <td>sj</td>\n",
              "      <td>1990</td>\n",
              "      <td>25</td>\n",
              "      <td>5</td>\n",
              "    </tr>\n",
              "    <tr>\n",
              "      <th>8</th>\n",
              "      <td>sj</td>\n",
              "      <td>1990</td>\n",
              "      <td>26</td>\n",
              "      <td>10</td>\n",
              "    </tr>\n",
              "    <tr>\n",
              "      <th>9</th>\n",
              "      <td>sj</td>\n",
              "      <td>1990</td>\n",
              "      <td>27</td>\n",
              "      <td>6</td>\n",
              "    </tr>\n",
              "    <tr>\n",
              "      <th>10</th>\n",
              "      <td>sj</td>\n",
              "      <td>1990</td>\n",
              "      <td>28</td>\n",
              "      <td>8</td>\n",
              "    </tr>\n",
              "    <tr>\n",
              "      <th>11</th>\n",
              "      <td>sj</td>\n",
              "      <td>1990</td>\n",
              "      <td>29</td>\n",
              "      <td>2</td>\n",
              "    </tr>\n",
              "    <tr>\n",
              "      <th>12</th>\n",
              "      <td>sj</td>\n",
              "      <td>1990</td>\n",
              "      <td>30</td>\n",
              "      <td>6</td>\n",
              "    </tr>\n",
              "    <tr>\n",
              "      <th>13</th>\n",
              "      <td>sj</td>\n",
              "      <td>1990</td>\n",
              "      <td>31</td>\n",
              "      <td>17</td>\n",
              "    </tr>\n",
              "    <tr>\n",
              "      <th>14</th>\n",
              "      <td>sj</td>\n",
              "      <td>1990</td>\n",
              "      <td>32</td>\n",
              "      <td>23</td>\n",
              "    </tr>\n",
              "    <tr>\n",
              "      <th>15</th>\n",
              "      <td>sj</td>\n",
              "      <td>1990</td>\n",
              "      <td>33</td>\n",
              "      <td>13</td>\n",
              "    </tr>\n",
              "    <tr>\n",
              "      <th>16</th>\n",
              "      <td>sj</td>\n",
              "      <td>1990</td>\n",
              "      <td>34</td>\n",
              "      <td>21</td>\n",
              "    </tr>\n",
              "    <tr>\n",
              "      <th>17</th>\n",
              "      <td>sj</td>\n",
              "      <td>1990</td>\n",
              "      <td>35</td>\n",
              "      <td>28</td>\n",
              "    </tr>\n",
              "    <tr>\n",
              "      <th>18</th>\n",
              "      <td>sj</td>\n",
              "      <td>1990</td>\n",
              "      <td>36</td>\n",
              "      <td>24</td>\n",
              "    </tr>\n",
              "    <tr>\n",
              "      <th>19</th>\n",
              "      <td>sj</td>\n",
              "      <td>1990</td>\n",
              "      <td>37</td>\n",
              "      <td>20</td>\n",
              "    </tr>\n",
              "  </tbody>\n",
              "</table>\n",
              "</div>\n",
              "      <button class=\"colab-df-convert\" onclick=\"convertToInteractive('df-34b84d51-83f1-4f95-a39a-b6337fa14ad4')\"\n",
              "              title=\"Convert this dataframe to an interactive table.\"\n",
              "              style=\"display:none;\">\n",
              "        \n",
              "  <svg xmlns=\"http://www.w3.org/2000/svg\" height=\"24px\"viewBox=\"0 0 24 24\"\n",
              "       width=\"24px\">\n",
              "    <path d=\"M0 0h24v24H0V0z\" fill=\"none\"/>\n",
              "    <path d=\"M18.56 5.44l.94 2.06.94-2.06 2.06-.94-2.06-.94-.94-2.06-.94 2.06-2.06.94zm-11 1L8.5 8.5l.94-2.06 2.06-.94-2.06-.94L8.5 2.5l-.94 2.06-2.06.94zm10 10l.94 2.06.94-2.06 2.06-.94-2.06-.94-.94-2.06-.94 2.06-2.06.94z\"/><path d=\"M17.41 7.96l-1.37-1.37c-.4-.4-.92-.59-1.43-.59-.52 0-1.04.2-1.43.59L10.3 9.45l-7.72 7.72c-.78.78-.78 2.05 0 2.83L4 21.41c.39.39.9.59 1.41.59.51 0 1.02-.2 1.41-.59l7.78-7.78 2.81-2.81c.8-.78.8-2.07 0-2.86zM5.41 20L4 18.59l7.72-7.72 1.47 1.35L5.41 20z\"/>\n",
              "  </svg>\n",
              "      </button>\n",
              "      \n",
              "  <style>\n",
              "    .colab-df-container {\n",
              "      display:flex;\n",
              "      flex-wrap:wrap;\n",
              "      gap: 12px;\n",
              "    }\n",
              "\n",
              "    .colab-df-convert {\n",
              "      background-color: #E8F0FE;\n",
              "      border: none;\n",
              "      border-radius: 50%;\n",
              "      cursor: pointer;\n",
              "      display: none;\n",
              "      fill: #1967D2;\n",
              "      height: 32px;\n",
              "      padding: 0 0 0 0;\n",
              "      width: 32px;\n",
              "    }\n",
              "\n",
              "    .colab-df-convert:hover {\n",
              "      background-color: #E2EBFA;\n",
              "      box-shadow: 0px 1px 2px rgba(60, 64, 67, 0.3), 0px 1px 3px 1px rgba(60, 64, 67, 0.15);\n",
              "      fill: #174EA6;\n",
              "    }\n",
              "\n",
              "    [theme=dark] .colab-df-convert {\n",
              "      background-color: #3B4455;\n",
              "      fill: #D2E3FC;\n",
              "    }\n",
              "\n",
              "    [theme=dark] .colab-df-convert:hover {\n",
              "      background-color: #434B5C;\n",
              "      box-shadow: 0px 1px 3px 1px rgba(0, 0, 0, 0.15);\n",
              "      filter: drop-shadow(0px 1px 2px rgba(0, 0, 0, 0.3));\n",
              "      fill: #FFFFFF;\n",
              "    }\n",
              "  </style>\n",
              "\n",
              "      <script>\n",
              "        const buttonEl =\n",
              "          document.querySelector('#df-34b84d51-83f1-4f95-a39a-b6337fa14ad4 button.colab-df-convert');\n",
              "        buttonEl.style.display =\n",
              "          google.colab.kernel.accessAllowed ? 'block' : 'none';\n",
              "\n",
              "        async function convertToInteractive(key) {\n",
              "          const element = document.querySelector('#df-34b84d51-83f1-4f95-a39a-b6337fa14ad4');\n",
              "          const dataTable =\n",
              "            await google.colab.kernel.invokeFunction('convertToInteractive',\n",
              "                                                     [key], {});\n",
              "          if (!dataTable) return;\n",
              "\n",
              "          const docLinkHtml = 'Like what you see? Visit the ' +\n",
              "            '<a target=\"_blank\" href=https://colab.research.google.com/notebooks/data_table.ipynb>data table notebook</a>'\n",
              "            + ' to learn more about interactive tables.';\n",
              "          element.innerHTML = '';\n",
              "          dataTable['output_type'] = 'display_data';\n",
              "          await google.colab.output.renderOutput(dataTable, element);\n",
              "          const docLink = document.createElement('div');\n",
              "          docLink.innerHTML = docLinkHtml;\n",
              "          element.appendChild(docLink);\n",
              "        }\n",
              "      </script>\n",
              "    </div>\n",
              "  </div>\n",
              "  "
            ],
            "text/plain": [
              "   city  year  weekofyear  total_cases\n",
              "0    sj  1990          18            4\n",
              "1    sj  1990          19            5\n",
              "2    sj  1990          20            4\n",
              "3    sj  1990          21            3\n",
              "4    sj  1990          22            6\n",
              "5    sj  1990          23            2\n",
              "6    sj  1990          24            4\n",
              "7    sj  1990          25            5\n",
              "8    sj  1990          26           10\n",
              "9    sj  1990          27            6\n",
              "10   sj  1990          28            8\n",
              "11   sj  1990          29            2\n",
              "12   sj  1990          30            6\n",
              "13   sj  1990          31           17\n",
              "14   sj  1990          32           23\n",
              "15   sj  1990          33           13\n",
              "16   sj  1990          34           21\n",
              "17   sj  1990          35           28\n",
              "18   sj  1990          36           24\n",
              "19   sj  1990          37           20"
            ]
          },
          "metadata": {},
          "execution_count": 20
        }
      ]
    },
    {
      "cell_type": "code",
      "source": [
        "df = X_train.merge(y_train, on=['city', 'year', 'weekofyear'])"
      ],
      "metadata": {
        "id": "7seZOWNCrUnP"
      },
      "execution_count": 21,
      "outputs": []
    },
    {
      "cell_type": "code",
      "source": [
        "df.groupby('city')['total_cases'].mean()"
      ],
      "metadata": {
        "colab": {
          "base_uri": "https://localhost:8080/"
        },
        "id": "4n--B_aUrvUd",
        "outputId": "cca88e57-0398-403c-a2af-1fe509338a2d"
      },
      "execution_count": 22,
      "outputs": [
        {
          "output_type": "execute_result",
          "data": {
            "text/plain": [
              "city\n",
              "iq     7.565385\n",
              "sj    34.180556\n",
              "Name: total_cases, dtype: float64"
            ]
          },
          "metadata": {},
          "execution_count": 22
        }
      ]
    },
    {
      "cell_type": "code",
      "source": [
        "#Simple models\n",
        "#Use the average for each city"
      ],
      "metadata": {
        "id": "YYwuZeVDr7uK"
      },
      "execution_count": null,
      "outputs": []
    },
    {
      "cell_type": "code",
      "source": [
        "df.corr()['total_cases']"
      ],
      "metadata": {
        "colab": {
          "base_uri": "https://localhost:8080/"
        },
        "id": "VHhYKLyRsh50",
        "outputId": "838c9318-479a-4447-fe94-8d2f136690d5"
      },
      "execution_count": 23,
      "outputs": [
        {
          "output_type": "execute_result",
          "data": {
            "text/plain": [
              "year                                    -0.306806\n",
              "weekofyear                               0.216452\n",
              "ndvi_ne                                 -0.241376\n",
              "ndvi_nw                                 -0.202235\n",
              "ndvi_se                                 -0.168612\n",
              "ndvi_sw                                 -0.196461\n",
              "precipitation_amt_mm                    -0.038740\n",
              "reanalysis_air_temp_k                    0.264952\n",
              "reanalysis_avg_temp_k                    0.151637\n",
              "reanalysis_dew_point_temp_k              0.142531\n",
              "reanalysis_max_air_temp_k               -0.191345\n",
              "reanalysis_min_air_temp_k                0.325252\n",
              "reanalysis_precip_amt_kg_per_m2         -0.010031\n",
              "reanalysis_relative_humidity_percent    -0.132452\n",
              "reanalysis_sat_precip_amt_mm            -0.038740\n",
              "reanalysis_specific_humidity_g_per_kg    0.129861\n",
              "reanalysis_tdtr_k                       -0.278483\n",
              "station_avg_temp_c                       0.116109\n",
              "station_diur_temp_rng_c                 -0.237844\n",
              "station_max_temp_c                      -0.039219\n",
              "station_min_temp_c                       0.267109\n",
              "station_precip_mm                       -0.074374\n",
              "total_cases                              1.000000\n",
              "Name: total_cases, dtype: float64"
            ]
          },
          "metadata": {},
          "execution_count": 23
        }
      ]
    },
    {
      "cell_type": "code",
      "source": [
        "df.corr()['total_cases'].sort_values(key=lambda x: abs(x), ascending=False)"
      ],
      "metadata": {
        "colab": {
          "base_uri": "https://localhost:8080/"
        },
        "id": "vjRMwMrSsjGl",
        "outputId": "5bbadc1b-c86c-4ddf-e3d3-f5dd787d802c"
      },
      "execution_count": 25,
      "outputs": [
        {
          "output_type": "execute_result",
          "data": {
            "text/plain": [
              "total_cases                              1.000000\n",
              "reanalysis_min_air_temp_k                0.325252\n",
              "year                                    -0.306806\n",
              "reanalysis_tdtr_k                       -0.278483\n",
              "station_min_temp_c                       0.267109\n",
              "reanalysis_air_temp_k                    0.264952\n",
              "ndvi_ne                                 -0.241376\n",
              "station_diur_temp_rng_c                 -0.237844\n",
              "weekofyear                               0.216452\n",
              "ndvi_nw                                 -0.202235\n",
              "ndvi_sw                                 -0.196461\n",
              "reanalysis_max_air_temp_k               -0.191345\n",
              "ndvi_se                                 -0.168612\n",
              "reanalysis_avg_temp_k                    0.151637\n",
              "reanalysis_dew_point_temp_k              0.142531\n",
              "reanalysis_relative_humidity_percent    -0.132452\n",
              "reanalysis_specific_humidity_g_per_kg    0.129861\n",
              "station_avg_temp_c                       0.116109\n",
              "station_precip_mm                       -0.074374\n",
              "station_max_temp_c                      -0.039219\n",
              "precipitation_amt_mm                    -0.038740\n",
              "reanalysis_sat_precip_amt_mm            -0.038740\n",
              "reanalysis_precip_amt_kg_per_m2         -0.010031\n",
              "Name: total_cases, dtype: float64"
            ]
          },
          "metadata": {},
          "execution_count": 25
        }
      ]
    },
    {
      "cell_type": "code",
      "source": [
        "sns.heatmap(df.corr())"
      ],
      "metadata": {
        "colab": {
          "base_uri": "https://localhost:8080/",
          "height": 471
        },
        "id": "g5_WjAIFtBMV",
        "outputId": "4c21597b-8be3-4f82-9197-ff544d9de561"
      },
      "execution_count": 31,
      "outputs": [
        {
          "output_type": "execute_result",
          "data": {
            "text/plain": [
              "<matplotlib.axes._subplots.AxesSubplot at 0x7fabea0293d0>"
            ]
          },
          "metadata": {},
          "execution_count": 31
        },
        {
          "output_type": "display_data",
          "data": {
            "image/png": "[encoded data removed]",
            "text/plain": [
              "<Figure size 432x288 with 2 Axes>"
            ]
          },
          "metadata": {
            "needs_background": "light"
          }
        }
      ]
    },
    {
      "cell_type": "code",
      "source": [
        "# Maybe we can look at how much precipation is leading case loads"
      ],
      "metadata": {
        "id": "6uhktd8ceeUs"
      },
      "execution_count": null,
      "outputs": []
    },
    {
      "cell_type": "code",
      "source": [
        "cases_sj = (  \n",
        "    df\n",
        "    .query(\"city == 'sj'\")\n",
        "    .assign(date=lambda df: pd\n",
        "    .to_datetime(df['week_start_date']))\n",
        "    .set_index(\"date\")\n",
        ")"
      ],
      "metadata": {
        "id": "hZR9T2LkfpQP"
      },
      "execution_count": 37,
      "outputs": []
    },
    {
      "cell_type": "code",
      "source": [
        "cases_sj.loc[:, 'total_cases'].plot()"
      ],
      "metadata": {
        "colab": {
          "base_uri": "https://localhost:8080/",
          "height": 288
        },
        "id": "g-rXP37Efs9q",
        "outputId": "188dd3c2-f320-4693-d445-07b1662cb598"
      },
      "execution_count": 41,
      "outputs": [
        {
          "output_type": "execute_result",
          "data": {
            "text/plain": [
              "<matplotlib.axes._subplots.AxesSubplot at 0x7fabe730c310>"
            ]
          },
          "metadata": {},
          "execution_count": 41
        },
        {
          "output_type": "display_data",
          "data": {
            "image/png": "[encoded data removed]",
            "text/plain": [
              "<Figure size 432x288 with 1 Axes>"
            ]
          },
          "metadata": {
            "needs_background": "light"
          }
        }
      ]
    },
    {
      "cell_type": "code",
      "source": [
        "#I want to show total cases per year as a function of total precipation"
      ],
      "metadata": {
        "id": "jEM_NwVNiZuR"
      },
      "execution_count": null,
      "outputs": []
    },
    {
      "cell_type": "code",
      "source": [
        "results = cases_sj.resample(\"Y\").agg({\"total_cases\": \"sum\",\"precipitation_amt_mm\" : \"sum\" })[[\"total_cases\",\"precipitation_amt_mm\"]].values"
      ],
      "metadata": {
        "id": "kv0zAGDlizMF"
      },
      "execution_count": 63,
      "outputs": []
    },
    {
      "cell_type": "code",
      "source": [
        "results[:5]"
      ],
      "metadata": {
        "colab": {
          "base_uri": "https://localhost:8080/"
        },
        "id": "lMkDcphHmA8c",
        "outputId": "19604ca2-5b94-4e4e-a4bf-79568cfbe7be"
      },
      "execution_count": 67,
      "outputs": [
        {
          "output_type": "execute_result",
          "data": {
            "text/plain": [
              "array([[ 866.  , 1513.63],\n",
              "       [2801.  , 1277.46],\n",
              "       [2371.  , 2156.64],\n",
              "       [1156.  , 1551.87],\n",
              "       [6533.  , 1031.74]])"
            ]
          },
          "metadata": {},
          "execution_count": 67
        }
      ]
    },
    {
      "cell_type": "code",
      "source": [
        "plt.plot(results[: ,1], results[:, 0], '.')"
      ],
      "metadata": {
        "colab": {
          "base_uri": "https://localhost:8080/",
          "height": 284
        },
        "id": "v3V2qLn1lKYu",
        "outputId": "81f520ba-aff7-44e7-c038-7047a93d155e"
      },
      "execution_count": 71,
      "outputs": [
        {
          "output_type": "execute_result",
          "data": {
            "text/plain": [
              "[<matplotlib.lines.Line2D at 0x7fabe6fedad0>]"
            ]
          },
          "metadata": {},
          "execution_count": 71
        },
        {
          "output_type": "display_data",
          "data": {
            "image/png": "[encoded data removed]",
            "text/plain": [
              "<Figure size 432x288 with 1 Axes>"
            ]
          },
          "metadata": {
            "needs_background": "light"
          }
        }
      ]
    },
    {
      "cell_type": "code",
      "source": [
        "np.corrcoef(results[:, 1], results[:, 0])"
      ],
      "metadata": {
        "colab": {
          "base_uri": "https://localhost:8080/"
        },
        "id": "3TbkQVZGm2Kl",
        "outputId": "e5274882-d1ae-4ceb-fa68-134fd6f70e12"
      },
      "execution_count": 72,
      "outputs": [
        {
          "output_type": "execute_result",
          "data": {
            "text/plain": [
              "array([[ 1.00000000e+00, -7.79598209e-04],\n",
              "       [-7.79598209e-04,  1.00000000e+00]])"
            ]
          },
          "metadata": {},
          "execution_count": 72
        }
      ]
    },
    {
      "cell_type": "code",
      "source": [
        "#precipation might be a leading indicator\n",
        "#might need to do some feature engineering here"
      ],
      "metadata": {
        "id": "32ejAndQnQ_0"
      },
      "execution_count": null,
      "outputs": []
    },
    {
      "cell_type": "code",
      "source": [
        "#How far back is precipation correlated with total cases?"
      ],
      "metadata": {
        "id": "ImrXZhYcn_-D"
      },
      "execution_count": null,
      "outputs": []
    },
    {
      "cell_type": "code",
      "source": [
        "results = cases_sj.resample(\"Y\").agg({\"total_cases\": \"sum\",\"precipitation_amt_mm\" : \"sum\" })\n",
        "results"
      ],
      "metadata": {
        "colab": {
          "base_uri": "https://localhost:8080/",
          "height": 676
        },
        "id": "An6FeGjjpGo-",
        "outputId": "a04b4649-a6da-491d-92d1-159bbb1f785c"
      },
      "execution_count": 80,
      "outputs": [
        {
          "output_type": "execute_result",
          "data": {
            "text/html": [
              "\n",
              "  <div id=\"df-94c437f9-f22a-4825-8c3c-6d152d669a96\">\n",
              "    <div class=\"colab-df-container\">\n",
              "      <div>\n",
              "<style scoped>\n",
              "    .dataframe tbody tr th:only-of-type {\n",
              "        vertical-align: middle;\n",
              "    }\n",
              "\n",
              "    .dataframe tbody tr th {\n",
              "        vertical-align: top;\n",
              "    }\n",
              "\n",
              "    .dataframe thead th {\n",
              "        text-align: right;\n",
              "    }\n",
              "</style>\n",
              "<table border=\"1\" class=\"dataframe\">\n",
              "  <thead>\n",
              "    <tr style=\"text-align: right;\">\n",
              "      <th></th>\n",
              "      <th>total_cases</th>\n",
              "      <th>precipitation_amt_mm</th>\n",
              "    </tr>\n",
              "    <tr>\n",
              "      <th>date</th>\n",
              "      <th></th>\n",
              "      <th></th>\n",
              "    </tr>\n",
              "  </thead>\n",
              "  <tbody>\n",
              "    <tr>\n",
              "      <th>1990-12-31</th>\n",
              "      <td>866</td>\n",
              "      <td>1513.63</td>\n",
              "    </tr>\n",
              "    <tr>\n",
              "      <th>1991-12-31</th>\n",
              "      <td>2801</td>\n",
              "      <td>1277.46</td>\n",
              "    </tr>\n",
              "    <tr>\n",
              "      <th>1992-12-31</th>\n",
              "      <td>2371</td>\n",
              "      <td>2156.64</td>\n",
              "    </tr>\n",
              "    <tr>\n",
              "      <th>1993-12-31</th>\n",
              "      <td>1156</td>\n",
              "      <td>1551.87</td>\n",
              "    </tr>\n",
              "    <tr>\n",
              "      <th>1994-12-31</th>\n",
              "      <td>6533</td>\n",
              "      <td>1031.74</td>\n",
              "    </tr>\n",
              "    <tr>\n",
              "      <th>1995-12-31</th>\n",
              "      <td>1333</td>\n",
              "      <td>1838.12</td>\n",
              "    </tr>\n",
              "    <tr>\n",
              "      <th>1996-12-31</th>\n",
              "      <td>855</td>\n",
              "      <td>1854.43</td>\n",
              "    </tr>\n",
              "    <tr>\n",
              "      <th>1997-12-31</th>\n",
              "      <td>1454</td>\n",
              "      <td>1267.61</td>\n",
              "    </tr>\n",
              "    <tr>\n",
              "      <th>1998-12-31</th>\n",
              "      <td>4595</td>\n",
              "      <td>2322.73</td>\n",
              "    </tr>\n",
              "    <tr>\n",
              "      <th>1999-12-31</th>\n",
              "      <td>1633</td>\n",
              "      <td>2282.71</td>\n",
              "    </tr>\n",
              "    <tr>\n",
              "      <th>2000-12-31</th>\n",
              "      <td>492</td>\n",
              "      <td>1681.08</td>\n",
              "    </tr>\n",
              "    <tr>\n",
              "      <th>2001-12-31</th>\n",
              "      <td>1463</td>\n",
              "      <td>2009.43</td>\n",
              "    </tr>\n",
              "    <tr>\n",
              "      <th>2002-12-31</th>\n",
              "      <td>452</td>\n",
              "      <td>1528.52</td>\n",
              "    </tr>\n",
              "    <tr>\n",
              "      <th>2003-12-31</th>\n",
              "      <td>949</td>\n",
              "      <td>2459.98</td>\n",
              "    </tr>\n",
              "    <tr>\n",
              "      <th>2004-12-31</th>\n",
              "      <td>610</td>\n",
              "      <td>1906.58</td>\n",
              "    </tr>\n",
              "    <tr>\n",
              "      <th>2005-12-31</th>\n",
              "      <td>1805</td>\n",
              "      <td>2119.90</td>\n",
              "    </tr>\n",
              "    <tr>\n",
              "      <th>2006-12-31</th>\n",
              "      <td>550</td>\n",
              "      <td>2088.88</td>\n",
              "    </tr>\n",
              "    <tr>\n",
              "      <th>2007-12-31</th>\n",
              "      <td>1969</td>\n",
              "      <td>1823.70</td>\n",
              "    </tr>\n",
              "    <tr>\n",
              "      <th>2008-12-31</th>\n",
              "      <td>106</td>\n",
              "      <td>166.43</td>\n",
              "    </tr>\n",
              "  </tbody>\n",
              "</table>\n",
              "</div>\n",
              "      <button class=\"colab-df-convert\" onclick=\"convertToInteractive('df-94c437f9-f22a-4825-8c3c-6d152d669a96')\"\n",
              "              title=\"Convert this dataframe to an interactive table.\"\n",
              "              style=\"display:none;\">\n",
              "        \n",
              "  <svg xmlns=\"http://www.w3.org/2000/svg\" height=\"24px\"viewBox=\"0 0 24 24\"\n",
              "       width=\"24px\">\n",
              "    <path d=\"M0 0h24v24H0V0z\" fill=\"none\"/>\n",
              "    <path d=\"M18.56 5.44l.94 2.06.94-2.06 2.06-.94-2.06-.94-.94-2.06-.94 2.06-2.06.94zm-11 1L8.5 8.5l.94-2.06 2.06-.94-2.06-.94L8.5 2.5l-.94 2.06-2.06.94zm10 10l.94 2.06.94-2.06 2.06-.94-2.06-.94-.94-2.06-.94 2.06-2.06.94z\"/><path d=\"M17.41 7.96l-1.37-1.37c-.4-.4-.92-.59-1.43-.59-.52 0-1.04.2-1.43.59L10.3 9.45l-7.72 7.72c-.78.78-.78 2.05 0 2.83L4 21.41c.39.39.9.59 1.41.59.51 0 1.02-.2 1.41-.59l7.78-7.78 2.81-2.81c.8-.78.8-2.07 0-2.86zM5.41 20L4 18.59l7.72-7.72 1.47 1.35L5.41 20z\"/>\n",
              "  </svg>\n",
              "      </button>\n",
              "      \n",
              "  <style>\n",
              "    .colab-df-container {\n",
              "      display:flex;\n",
              "      flex-wrap:wrap;\n",
              "      gap: 12px;\n",
              "    }\n",
              "\n",
              "    .colab-df-convert {\n",
              "      background-color: #E8F0FE;\n",
              "      border: none;\n",
              "      border-radius: 50%;\n",
              "      cursor: pointer;\n",
              "      display: none;\n",
              "      fill: #1967D2;\n",
              "      height: 32px;\n",
              "      padding: 0 0 0 0;\n",
              "      width: 32px;\n",
              "    }\n",
              "\n",
              "    .colab-df-convert:hover {\n",
              "      background-color: #E2EBFA;\n",
              "      box-shadow: 0px 1px 2px rgba(60, 64, 67, 0.3), 0px 1px 3px 1px rgba(60, 64, 67, 0.15);\n",
              "      fill: #174EA6;\n",
              "    }\n",
              "\n",
              "    [theme=dark] .colab-df-convert {\n",
              "      background-color: #3B4455;\n",
              "      fill: #D2E3FC;\n",
              "    }\n",
              "\n",
              "    [theme=dark] .colab-df-convert:hover {\n",
              "      background-color: #434B5C;\n",
              "      box-shadow: 0px 1px 3px 1px rgba(0, 0, 0, 0.15);\n",
              "      filter: drop-shadow(0px 1px 2px rgba(0, 0, 0, 0.3));\n",
              "      fill: #FFFFFF;\n",
              "    }\n",
              "  </style>\n",
              "\n",
              "      <script>\n",
              "        const buttonEl =\n",
              "          document.querySelector('#df-94c437f9-f22a-4825-8c3c-6d152d669a96 button.colab-df-convert');\n",
              "        buttonEl.style.display =\n",
              "          google.colab.kernel.accessAllowed ? 'block' : 'none';\n",
              "\n",
              "        async function convertToInteractive(key) {\n",
              "          const element = document.querySelector('#df-94c437f9-f22a-4825-8c3c-6d152d669a96');\n",
              "          const dataTable =\n",
              "            await google.colab.kernel.invokeFunction('convertToInteractive',\n",
              "                                                     [key], {});\n",
              "          if (!dataTable) return;\n",
              "\n",
              "          const docLinkHtml = 'Like what you see? Visit the ' +\n",
              "            '<a target=\"_blank\" href=https://colab.research.google.com/notebooks/data_table.ipynb>data table notebook</a>'\n",
              "            + ' to learn more about interactive tables.';\n",
              "          element.innerHTML = '';\n",
              "          dataTable['output_type'] = 'display_data';\n",
              "          await google.colab.output.renderOutput(dataTable, element);\n",
              "          const docLink = document.createElement('div');\n",
              "          docLink.innerHTML = docLinkHtml;\n",
              "          element.appendChild(docLink);\n",
              "        }\n",
              "      </script>\n",
              "    </div>\n",
              "  </div>\n",
              "  "
            ],
            "text/plain": [
              "            total_cases  precipitation_amt_mm\n",
              "date                                         \n",
              "1990-12-31          866               1513.63\n",
              "1991-12-31         2801               1277.46\n",
              "1992-12-31         2371               2156.64\n",
              "1993-12-31         1156               1551.87\n",
              "1994-12-31         6533               1031.74\n",
              "1995-12-31         1333               1838.12\n",
              "1996-12-31          855               1854.43\n",
              "1997-12-31         1454               1267.61\n",
              "1998-12-31         4595               2322.73\n",
              "1999-12-31         1633               2282.71\n",
              "2000-12-31          492               1681.08\n",
              "2001-12-31         1463               2009.43\n",
              "2002-12-31          452               1528.52\n",
              "2003-12-31          949               2459.98\n",
              "2004-12-31          610               1906.58\n",
              "2005-12-31         1805               2119.90\n",
              "2006-12-31          550               2088.88\n",
              "2007-12-31         1969               1823.70\n",
              "2008-12-31          106                166.43"
            ]
          },
          "metadata": {},
          "execution_count": 80
        }
      ]
    },
    {
      "cell_type": "code",
      "source": [
        "results.shift(-1)"
      ],
      "metadata": {
        "colab": {
          "base_uri": "https://localhost:8080/",
          "height": 676
        },
        "id": "QfKi_KiCpyb2",
        "outputId": "27275bd7-4be4-48d7-cee2-b727998f6b1c"
      },
      "execution_count": 83,
      "outputs": [
        {
          "output_type": "execute_result",
          "data": {
            "text/html": [
              "\n",
              "  <div id=\"df-e71751f7-d391-4875-b069-e799e81dae9c\">\n",
              "    <div class=\"colab-df-container\">\n",
              "      <div>\n",
              "<style scoped>\n",
              "    .dataframe tbody tr th:only-of-type {\n",
              "        vertical-align: middle;\n",
              "    }\n",
              "\n",
              "    .dataframe tbody tr th {\n",
              "        vertical-align: top;\n",
              "    }\n",
              "\n",
              "    .dataframe thead th {\n",
              "        text-align: right;\n",
              "    }\n",
              "</style>\n",
              "<table border=\"1\" class=\"dataframe\">\n",
              "  <thead>\n",
              "    <tr style=\"text-align: right;\">\n",
              "      <th></th>\n",
              "      <th>total_cases</th>\n",
              "      <th>precipitation_amt_mm</th>\n",
              "    </tr>\n",
              "    <tr>\n",
              "      <th>date</th>\n",
              "      <th></th>\n",
              "      <th></th>\n",
              "    </tr>\n",
              "  </thead>\n",
              "  <tbody>\n",
              "    <tr>\n",
              "      <th>1990-12-31</th>\n",
              "      <td>2801.0</td>\n",
              "      <td>1277.46</td>\n",
              "    </tr>\n",
              "    <tr>\n",
              "      <th>1991-12-31</th>\n",
              "      <td>2371.0</td>\n",
              "      <td>2156.64</td>\n",
              "    </tr>\n",
              "    <tr>\n",
              "      <th>1992-12-31</th>\n",
              "      <td>1156.0</td>\n",
              "      <td>1551.87</td>\n",
              "    </tr>\n",
              "    <tr>\n",
              "      <th>1993-12-31</th>\n",
              "      <td>6533.0</td>\n",
              "      <td>1031.74</td>\n",
              "    </tr>\n",
              "    <tr>\n",
              "      <th>1994-12-31</th>\n",
              "      <td>1333.0</td>\n",
              "      <td>1838.12</td>\n",
              "    </tr>\n",
              "    <tr>\n",
              "      <th>1995-12-31</th>\n",
              "      <td>855.0</td>\n",
              "      <td>1854.43</td>\n",
              "    </tr>\n",
              "    <tr>\n",
              "      <th>1996-12-31</th>\n",
              "      <td>1454.0</td>\n",
              "      <td>1267.61</td>\n",
              "    </tr>\n",
              "    <tr>\n",
              "      <th>1997-12-31</th>\n",
              "      <td>4595.0</td>\n",
              "      <td>2322.73</td>\n",
              "    </tr>\n",
              "    <tr>\n",
              "      <th>1998-12-31</th>\n",
              "      <td>1633.0</td>\n",
              "      <td>2282.71</td>\n",
              "    </tr>\n",
              "    <tr>\n",
              "      <th>1999-12-31</th>\n",
              "      <td>492.0</td>\n",
              "      <td>1681.08</td>\n",
              "    </tr>\n",
              "    <tr>\n",
              "      <th>2000-12-31</th>\n",
              "      <td>1463.0</td>\n",
              "      <td>2009.43</td>\n",
              "    </tr>\n",
              "    <tr>\n",
              "      <th>2001-12-31</th>\n",
              "      <td>452.0</td>\n",
              "      <td>1528.52</td>\n",
              "    </tr>\n",
              "    <tr>\n",
              "      <th>2002-12-31</th>\n",
              "      <td>949.0</td>\n",
              "      <td>2459.98</td>\n",
              "    </tr>\n",
              "    <tr>\n",
              "      <th>2003-12-31</th>\n",
              "      <td>610.0</td>\n",
              "      <td>1906.58</td>\n",
              "    </tr>\n",
              "    <tr>\n",
              "      <th>2004-12-31</th>\n",
              "      <td>1805.0</td>\n",
              "      <td>2119.90</td>\n",
              "    </tr>\n",
              "    <tr>\n",
              "      <th>2005-12-31</th>\n",
              "      <td>550.0</td>\n",
              "      <td>2088.88</td>\n",
              "    </tr>\n",
              "    <tr>\n",
              "      <th>2006-12-31</th>\n",
              "      <td>1969.0</td>\n",
              "      <td>1823.70</td>\n",
              "    </tr>\n",
              "    <tr>\n",
              "      <th>2007-12-31</th>\n",
              "      <td>106.0</td>\n",
              "      <td>166.43</td>\n",
              "    </tr>\n",
              "    <tr>\n",
              "      <th>2008-12-31</th>\n",
              "      <td>NaN</td>\n",
              "      <td>NaN</td>\n",
              "    </tr>\n",
              "  </tbody>\n",
              "</table>\n",
              "</div>\n",
              "      <button class=\"colab-df-convert\" onclick=\"convertToInteractive('df-e71751f7-d391-4875-b069-e799e81dae9c')\"\n",
              "              title=\"Convert this dataframe to an interactive table.\"\n",
              "              style=\"display:none;\">\n",
              "        \n",
              "  <svg xmlns=\"http://www.w3.org/2000/svg\" height=\"24px\"viewBox=\"0 0 24 24\"\n",
              "       width=\"24px\">\n",
              "    <path d=\"M0 0h24v24H0V0z\" fill=\"none\"/>\n",
              "    <path d=\"M18.56 5.44l.94 2.06.94-2.06 2.06-.94-2.06-.94-.94-2.06-.94 2.06-2.06.94zm-11 1L8.5 8.5l.94-2.06 2.06-.94-2.06-.94L8.5 2.5l-.94 2.06-2.06.94zm10 10l.94 2.06.94-2.06 2.06-.94-2.06-.94-.94-2.06-.94 2.06-2.06.94z\"/><path d=\"M17.41 7.96l-1.37-1.37c-.4-.4-.92-.59-1.43-.59-.52 0-1.04.2-1.43.59L10.3 9.45l-7.72 7.72c-.78.78-.78 2.05 0 2.83L4 21.41c.39.39.9.59 1.41.59.51 0 1.02-.2 1.41-.59l7.78-7.78 2.81-2.81c.8-.78.8-2.07 0-2.86zM5.41 20L4 18.59l7.72-7.72 1.47 1.35L5.41 20z\"/>\n",
              "  </svg>\n",
              "      </button>\n",
              "      \n",
              "  <style>\n",
              "    .colab-df-container {\n",
              "      display:flex;\n",
              "      flex-wrap:wrap;\n",
              "      gap: 12px;\n",
              "    }\n",
              "\n",
              "    .colab-df-convert {\n",
              "      background-color: #E8F0FE;\n",
              "      border: none;\n",
              "      border-radius: 50%;\n",
              "      cursor: pointer;\n",
              "      display: none;\n",
              "      fill: #1967D2;\n",
              "      height: 32px;\n",
              "      padding: 0 0 0 0;\n",
              "      width: 32px;\n",
              "    }\n",
              "\n",
              "    .colab-df-convert:hover {\n",
              "      background-color: #E2EBFA;\n",
              "      box-shadow: 0px 1px 2px rgba(60, 64, 67, 0.3), 0px 1px 3px 1px rgba(60, 64, 67, 0.15);\n",
              "      fill: #174EA6;\n",
              "    }\n",
              "\n",
              "    [theme=dark] .colab-df-convert {\n",
              "      background-color: #3B4455;\n",
              "      fill: #D2E3FC;\n",
              "    }\n",
              "\n",
              "    [theme=dark] .colab-df-convert:hover {\n",
              "      background-color: #434B5C;\n",
              "      box-shadow: 0px 1px 3px 1px rgba(0, 0, 0, 0.15);\n",
              "      filter: drop-shadow(0px 1px 2px rgba(0, 0, 0, 0.3));\n",
              "      fill: #FFFFFF;\n",
              "    }\n",
              "  </style>\n",
              "\n",
              "      <script>\n",
              "        const buttonEl =\n",
              "          document.querySelector('#df-e71751f7-d391-4875-b069-e799e81dae9c button.colab-df-convert');\n",
              "        buttonEl.style.display =\n",
              "          google.colab.kernel.accessAllowed ? 'block' : 'none';\n",
              "\n",
              "        async function convertToInteractive(key) {\n",
              "          const element = document.querySelector('#df-e71751f7-d391-4875-b069-e799e81dae9c');\n",
              "          const dataTable =\n",
              "            await google.colab.kernel.invokeFunction('convertToInteractive',\n",
              "                                                     [key], {});\n",
              "          if (!dataTable) return;\n",
              "\n",
              "          const docLinkHtml = 'Like what you see? Visit the ' +\n",
              "            '<a target=\"_blank\" href=https://colab.research.google.com/notebooks/data_table.ipynb>data table notebook</a>'\n",
              "            + ' to learn more about interactive tables.';\n",
              "          element.innerHTML = '';\n",
              "          dataTable['output_type'] = 'display_data';\n",
              "          await google.colab.output.renderOutput(dataTable, element);\n",
              "          const docLink = document.createElement('div');\n",
              "          docLink.innerHTML = docLinkHtml;\n",
              "          element.appendChild(docLink);\n",
              "        }\n",
              "      </script>\n",
              "    </div>\n",
              "  </div>\n",
              "  "
            ],
            "text/plain": [
              "            total_cases  precipitation_amt_mm\n",
              "date                                         \n",
              "1990-12-31       2801.0               1277.46\n",
              "1991-12-31       2371.0               2156.64\n",
              "1992-12-31       1156.0               1551.87\n",
              "1993-12-31       6533.0               1031.74\n",
              "1994-12-31       1333.0               1838.12\n",
              "1995-12-31        855.0               1854.43\n",
              "1996-12-31       1454.0               1267.61\n",
              "1997-12-31       4595.0               2322.73\n",
              "1998-12-31       1633.0               2282.71\n",
              "1999-12-31        492.0               1681.08\n",
              "2000-12-31       1463.0               2009.43\n",
              "2001-12-31        452.0               1528.52\n",
              "2002-12-31        949.0               2459.98\n",
              "2003-12-31        610.0               1906.58\n",
              "2004-12-31       1805.0               2119.90\n",
              "2005-12-31        550.0               2088.88\n",
              "2006-12-31       1969.0               1823.70\n",
              "2007-12-31        106.0                166.43\n",
              "2008-12-31          NaN                   NaN"
            ]
          },
          "metadata": {},
          "execution_count": 83
        }
      ]
    },
    {
      "cell_type": "code",
      "source": [
        "# Create a data frame with date, total cases, and precipation amount\n",
        "# Shift back by a unit and calculate the correlation\n",
        "# Repeat for various shifts and plot the correlation"
      ],
      "metadata": {
        "id": "eZtnJ21AqAwe"
      },
      "execution_count": null,
      "outputs": []
    },
    {
      "cell_type": "code",
      "source": [
        "# cases_sj = (  \n",
        "#     df\n",
        "#     .query(\"city == 'sj'\")\n",
        "#     .assign(date=lambda df: pd\n",
        "#     .to_datetime(df['week_start_date']))\n",
        "#     .set_index(\"date\")\n",
        "# )"
      ],
      "metadata": {
        "id": "c1v24VqniDNW"
      },
      "execution_count": null,
      "outputs": []
    }
  ]
}